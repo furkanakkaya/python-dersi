{
 "cells": [
  {
   "cell_type": "code",
   "execution_count": 8,
   "metadata": {},
   "outputs": [
    {
     "name": "stdout",
     "output_type": "stream",
     "text": [
      "Dizimiz:\n",
      " [0 1 2 3 4]\n",
      "2.Dizimiz:\n",
      " [[0 1 2]\n",
      " [3 4 5]]\n"
     ]
    }
   ],
   "source": [
    "import numpy as np\n",
    "\n",
    "dizi1= np.array ([0 ,1, 2, 3, 4])\n",
    "print(\"Dizimiz:\\n\",dizi1)\n",
    "\n",
    "dizi2= np.array ([[0,1,2],[3,4,5]])\n",
    "print(\"2.Dizimiz:\\n\",dizi2)"
   ]
  },
  {
   "cell_type": "code",
   "execution_count": 9,
   "metadata": {},
   "outputs": [
    {
     "name": "stdout",
     "output_type": "stream",
     "text": [
      "dizinin indisi '3' olan elamanı ha budur uşağım:  3\n"
     ]
    }
   ],
   "source": [
    "print(\"dizinin indisi '3' olan elamanı ha budur uşağım: \",dizi1[3])\n"
   ]
  },
  {
   "cell_type": "code",
   "execution_count": 11,
   "metadata": {},
   "outputs": [
    {
     "name": "stdout",
     "output_type": "stream",
     "text": [
      "2.dizinin indisi '(1,1)' olan elamanı ha budur uşağım:  4\n",
      "2.dizinin indisi '(1,2)' olan elamanı ha budur uşağım:  5\n"
     ]
    }
   ],
   "source": [
    "print(\"2.dizinin indisi '(1,1)' olan elamanı ha budur uşağım: \",dizi2[1,1])\n",
    "print(\"2.dizinin indisi '(1,2)' olan elamanı ha budur uşağım: \",dizi2[1,2])\n"
   ]
  },
  {
   "cell_type": "code",
   "execution_count": 17,
   "metadata": {},
   "outputs": [
    {
     "name": "stdout",
     "output_type": "stream",
     "text": [
      " 2.dizinin indisi '(1,2)'olan elemanı '5' iken '10' yaptım aha da bak.\n",
      " 2.dizimiz:\n",
      " [[ 0  1  2]\n",
      " [ 3  4 10]]\n"
     ]
    }
   ],
   "source": [
    "dizi2[1,2]=10\n",
    "print(\" 2.dizinin indisi '(1,2)'olan elemanı '5' iken '10' yaptım aha da bak.\\n\", \"2.dizimiz:\\n\",dizi2)"
   ]
  },
  {
   "cell_type": "code",
   "execution_count": null,
   "metadata": {},
   "outputs": [],
   "source": []
  },
  {
   "cell_type": "code",
   "execution_count": 21,
   "metadata": {},
   "outputs": [
    {
     "name": "stdout",
     "output_type": "stream",
     "text": [
      "4.dizimiz:\n",
      " [[0 1 2 3]\n",
      " [3 4 5 6]\n",
      " [1 2 3 6]\n",
      " [5 6 2 9]]\n"
     ]
    }
   ],
   "source": [
    "dizi4= np.array ([[0,1,2,3],[3,4,5,6],[1,2,3,6],[5,6,2,9]])\n",
    "print(\"4.dizimiz:\\n\",dizi4)"
   ]
  },
  {
   "cell_type": "code",
   "execution_count": 30,
   "metadata": {},
   "outputs": [
    {
     "name": "stdout",
     "output_type": "stream",
     "text": [
      "mat_3x3 dizimiz=\n",
      " [[6 3 8]\n",
      " [2 9 0]\n",
      " [7 4 5]]\n",
      "----------------\n",
      "[[2 9]\n",
      " [7 4]]\n",
      "----------------\n",
      "[[6 8]\n",
      " [2 0]\n",
      " [7 5]]\n"
     ]
    }
   ],
   "source": [
    "mat_3x3= np.array([[6,3,8],[2,9,0],[7,4,5]])\n",
    "print(\"mat_3x3 dizimiz=\\n\",mat_3x3)\n",
    "print(\"----------------\")\n",
    "print(mat_3x3[1:3,0:2])\n",
    "print(\"----------------\")\n",
    "print(mat_3x3[:,[0,2]])"
   ]
  },
  {
   "cell_type": "code",
   "execution_count": 32,
   "metadata": {},
   "outputs": [
    {
     "name": "stdout",
     "output_type": "stream",
     "text": [
      "[[16  3 18]\n",
      " [12  9 10]\n",
      " [17  4 15]]\n"
     ]
    }
   ],
   "source": [
    "mat_3x3[:,[0,2]]=[[16,18],[12,10],[17,15]]\n",
    "print(mat_3x3)\n"
   ]
  },
  {
   "cell_type": "markdown",
   "metadata": {},
   "source": [
    "dd"
   ]
  },
  {
   "cell_type": "code",
   "execution_count": 33,
   "metadata": {},
   "outputs": [
    {
     "name": "stdout",
     "output_type": "stream",
     "text": [
      "Dizimiz:\n",
      " [  0   1   2   3 100]\n"
     ]
    }
   ],
   "source": [
    "dizi1[4]=100\n",
    "print(\"Dizimiz:\\n\",dizi1)"
   ]
  },
  {
   "cell_type": "code",
   "execution_count": 34,
   "metadata": {},
   "outputs": [
    {
     "name": "stdout",
     "output_type": "stream",
     "text": [
      "Dizimiz:\n",
      " [   0    1    2    3 2014]\n"
     ]
    }
   ],
   "source": [
    "dizi1[-1]= 2014\n",
    "print(\"Dizimiz:\\n\",dizi1)"
   ]
  },
  {
   "cell_type": "code",
   "execution_count": 51,
   "metadata": {},
   "outputs": [
    {
     "name": "stdout",
     "output_type": "stream",
     "text": [
      "[1 3]\n",
      "[3 1]\n",
      "[2014    3    2    1]\n",
      "[0 1 2 3]\n",
      "[   0    1    2    3 2014]\n"
     ]
    }
   ],
   "source": [
    "print(dizi1[1:4:2])\n",
    "print(dizi1[3:0:-2])\n",
    "print(dizi1[4:0:-1]) #4 indisli elemandan geriye doğru teker teker 0 indisli elemana kadar!# 0 indisli dahil değildir \n",
    "print(dizi1[:4]) #başlangıçtan 4 indisli elemana kadar! 4 dahil değil.\n",
    "print(dizi1[:]) #hepsi"
   ]
  },
  {
   "cell_type": "code",
   "execution_count": 69,
   "metadata": {},
   "outputs": [
    {
     "ename": "IndexError",
     "evalue": "index 5 is out of bounds for axis 0 with size 5",
     "output_type": "error",
     "traceback": [
      "\u001b[1;31m---------------------------------------------------------------------------\u001b[0m",
      "\u001b[1;31mIndexError\u001b[0m                                Traceback (most recent call last)",
      "\u001b[1;32m<ipython-input-69-8803bcae6b6d>\u001b[0m in \u001b[0;36m<module>\u001b[1;34m\u001b[0m\n\u001b[1;32m----> 1\u001b[1;33m \u001b[0mdizi1\u001b[0m\u001b[1;33m[\u001b[0m\u001b[1;36m5\u001b[0m\u001b[1;33m]\u001b[0m\u001b[1;33m=\u001b[0m\u001b[1;33m-\u001b[0m\u001b[1;36m4\u001b[0m\u001b[1;33m\u001b[0m\u001b[1;33m\u001b[0m\u001b[0m\n\u001b[0m\u001b[0;32m      2\u001b[0m \u001b[0mprint\u001b[0m\u001b[1;33m(\u001b[0m\u001b[0mdizi1\u001b[0m\u001b[1;33m)\u001b[0m\u001b[1;33m\u001b[0m\u001b[1;33m\u001b[0m\u001b[0m\n",
      "\u001b[1;31mIndexError\u001b[0m: index 5 is out of bounds for axis 0 with size 5"
     ]
    }
   ],
   "source": [
    "dizi1[5]=-4\n",
    "print(dizi1)"
   ]
  },
  {
   "cell_type": "code",
   "execution_count": 70,
   "metadata": {},
   "outputs": [
    {
     "name": "stdout",
     "output_type": "stream",
     "text": [
      "dizi1:\n",
      " [ 0 31  2  3 -4]\n",
      "dizi2:\n",
      " [ 0 31  2  3 -4]\n"
     ]
    }
   ],
   "source": [
    "\n",
    "dizi2=dizi1\n",
    "print(\"dizi1:\\n\",dizi1)\n",
    "print(\"dizi2:\\n\",dizi2)\n",
    "dizi2[1]=31\n",
    "#sadece dizi2'nin elemanını değiştirmeme rağmen dizi1  deki elemanda da değişti.  dizi2=dizi1"
   ]
  },
  {
   "cell_type": "code",
   "execution_count": 73,
   "metadata": {},
   "outputs": [
    {
     "name": "stdout",
     "output_type": "stream",
     "text": [
      "dizi1:\n",
      " [0 1 2 3 4]\n",
      "dizi1:\n",
      " [ 0  1  2  3  4 10]\n"
     ]
    }
   ],
   "source": [
    "dizi1= np.array([0,1,2,3,4])\n",
    "print(\"dizi1:\\n\", dizi1)\n",
    "dizi1= np.append(dizi1,[10]) #diziye ekleme yapmamızı sağlayan komut.\n",
    "print(\"dizi1:\\n\",dizi1)"
   ]
  },
  {
   "cell_type": "code",
   "execution_count": null,
   "metadata": {},
   "outputs": [],
   "source": [
    "print(\"dizi1:\\n\", dizi1)\n",
    "dizi5 = np.insert(dizi1,2,[9,8,7]) # dizide belirtiğimiz indisdeki değeri değiştiririz.\n",
    "print(\"dizi5: \\n\",dizi5)"
   ]
  },
  {
   "cell_type": "markdown",
   "metadata": {},
   "source": [
    "concatenate() ile dizi birleştirme\n",
    "Python'da \"normal\" (standard) dizileri + operatörü ile birleştirebiliyorduk. NumPy matrislerinde bu operatör ile gerçek toplama yapabildiğimizden ötürü, yeni bir komuta gerek olmuş, o komut da işte concatenate:"
   ]
  },
  {
   "cell_type": "code",
   "execution_count": 78,
   "metadata": {},
   "outputs": [
    {
     "name": "stdout",
     "output_type": "stream",
     "text": [
      "dizi3: \n",
      " [ 0  1  2  3  4  9 10 15]\n"
     ]
    }
   ],
   "source": [
    "dizi1 = np.array([0,1,2,3,4])\n",
    "dizi2 = np.array([9,10,15])\n",
    "dizi3 = np.concatenate((dizi1,dizi2))\n",
    "print(\"dizi3: \\n\",dizi3)"
   ]
  },
  {
   "cell_type": "code",
   "execution_count": 81,
   "metadata": {},
   "outputs": [
    {
     "name": "stdout",
     "output_type": "stream",
     "text": [
      "mat1 matrisim;\n",
      " [[ 1  2  3  4]\n",
      " [ 5  6  7  8]\n",
      " [ 9 10 11 12]]\n"
     ]
    }
   ],
   "source": [
    "mat1=np.array([[1,2,3,4],[5,6,7,8,],[9,10,11,12]])\n",
    "print(\"mat1 matrisim;\\n\",mat1)"
   ]
  },
  {
   "cell_type": "code",
   "execution_count": 82,
   "metadata": {},
   "outputs": [
    {
     "name": "stdout",
     "output_type": "stream",
     "text": [
      "[ 1  2  4  5  6  7  8  9 10 11 12]\n"
     ]
    }
   ],
   "source": [
    "print(np.delete(mat1,2))"
   ]
  },
  {
   "cell_type": "code",
   "execution_count": 84,
   "metadata": {},
   "outputs": [
    {
     "name": "stdout",
     "output_type": "stream",
     "text": [
      "[[1 2 3 4]\n",
      " [5 6 7 8]]\n"
     ]
    }
   ],
   "source": [
    "print(np.delete(mat1,2,0)) # mat 1'i al ve onun satırlarından 2 indisli satırı sil. \n",
    "#burada 0 ise x ekseni(satır) belirtmekte 1 olursa y ekseni(sütun) 2 olursa z eksenidir. bu matris 2 boyutludur."
   ]
  },
  {
   "cell_type": "code",
   "execution_count": 86,
   "metadata": {},
   "outputs": [
    {
     "name": "stdout",
     "output_type": "stream",
     "text": [
      "[[ 2  4]\n",
      " [ 6  8]\n",
      " [10 12]]\n"
     ]
    }
   ],
   "source": [
    "print(np.delete(mat1,[0,2],1)) "
   ]
  },
  {
   "cell_type": "code",
   "execution_count": 87,
   "metadata": {},
   "outputs": [
    {
     "name": "stdout",
     "output_type": "stream",
     "text": [
      "[[5 6 7 8]]\n"
     ]
    }
   ],
   "source": [
    "print(np.delete(mat1,[0,2],0))"
   ]
  }
 ],
 "metadata": {
  "kernelspec": {
   "display_name": "Python 3",
   "language": "python",
   "name": "python3"
  },
  "language_info": {
   "codemirror_mode": {
    "name": "ipython",
    "version": 3
   },
   "file_extension": ".py",
   "mimetype": "text/x-python",
   "name": "python",
   "nbconvert_exporter": "python",
   "pygments_lexer": "ipython3",
   "version": "3.7.6"
  }
 },
 "nbformat": 4,
 "nbformat_minor": 4
}
