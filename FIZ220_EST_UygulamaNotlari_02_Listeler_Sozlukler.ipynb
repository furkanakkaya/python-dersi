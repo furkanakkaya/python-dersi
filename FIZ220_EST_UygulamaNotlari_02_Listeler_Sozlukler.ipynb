{
 "cells": [
  {
   "cell_type": "markdown",
   "metadata": {},
   "source": [
    "# Uygulama Notları: 2\n",
    "## FİZ220 - Bilgisayar Programlama II | 13/03/2020\n",
    "\n",
    "**Listeler ve Sözlükler (+ demetler, kümeler)**\n",
    "* Listeler\n",
    " * Listeye eleman ekleme\n",
    "     + append\n",
    "     + insert\n",
    "     + extend\n",
    "     + Liste Birleştirme\n",
    " * Liste elemanlarına ulaşma\n",
    " * Listeden eleman çıkarma\n",
    "     + clear\n",
    "     + pop\n",
    "     + remove\n",
    "     + del\n",
    " * Listelerle ilgili faydalı komutlar / metotlar\n",
    "     + len\n",
    "     + index\n",
    "     + in\n",
    "     + count\n",
    "     + sort\n",
    "     + reverse\n",
    "     + copy\n",
    "* Sözlükler\n",
    " * Sözlük tanımlama / özellik ekleme\n",
    " * Sözlükten özellik silme\n",
    " * Sözlüğün anahtarlarını (özelliklerini) öğrenme\n",
    "* Listeler ile sözlükler birbirlerini çok severlerse...\n",
    "* Bilerek bahsedilmeyenler\n",
    " * Bir listenin verilen -ardışık olmayan- indislerdeki elemanlarına ulaşmak\n",
    " * Bir listeden belli bir değere sahip olan tüm elemanları çıkartmak\n",
    " * Demetler (Tuple) nerede, niye bahsedilmedi?\n",
    " * Bir de kümeler (set) varmış, onları niye görmüyoruz?\n",
    " \n",
    "Dr. Emre S. Taşcı, emre.tasci@hacettepe.edu.tr  \n",
    "Fizik Mühendisliği Bölümü  \n",
    "Hacettepe Üniversitesi"
   ]
  },
  {
   "cell_type": "markdown",
   "metadata": {},
   "source": [
    "# Listeler, Demetler ve Sözlükler\n",
    "Python'da GNU Octave'da görmüş olduğumuz dizilerin yaklaşık karşılığı olarak **liste** (_list_) ve **demet** (_tuple_) önerilebilir; hücre dizilerinin yaklaşık karşılığı ise **sözlük** (_dictionary_) olmaktadır. Ama bu birebir karşılık değildir: Python'da bir liste/demet karma veri tiplerinden oluşabilir. Sözlüklerin gücü ise, anahtar (_key_) indislemeden gelmektedir."
   ]
  },
  {
   "cell_type": "markdown",
   "metadata": {},
   "source": [
    "## Listeler\n",
    "Python listeleri sıralıdır, ilk elemanın indisi 0 olup, göreceğimiz üzere bütün sıralamalar 0'dan başlar. Listeleri tanımlamak için köşeli parantez içine yazarız."
   ]
  },
  {
   "cell_type": "code",
   "execution_count": 1,
   "metadata": {},
   "outputs": [
    {
     "name": "stdout",
     "output_type": "stream",
     "text": [
      "[1, 'iki', '3']\n",
      "iki\n"
     ]
    }
   ],
   "source": [
    "liste = [1,\"iki\",\"3\"]\n",
    "print(liste)\n",
    "print(liste[1])"
   ]
  },
  {
   "cell_type": "markdown",
   "metadata": {},
   "source": [
    "Liste elemanlarını istediğimiz gibi değiştirebiliriz:"
   ]
  },
  {
   "cell_type": "code",
   "execution_count": 2,
   "metadata": {},
   "outputs": [
    {
     "name": "stdout",
     "output_type": "stream",
     "text": [
      "bir\n"
     ]
    }
   ],
   "source": [
    "liste[1] = \"bir\"\n",
    "print(liste[1])"
   ]
  },
  {
   "cell_type": "markdown",
   "metadata": {},
   "source": [
    "...ama tanımlı olmayan bir elemanı indisle ekleyemeyiz:"
   ]
  },
  {
   "cell_type": "code",
   "execution_count": 3,
   "metadata": {
    "scrolled": false
   },
   "outputs": [
    {
     "ename": "IndexError",
     "evalue": "list assignment index out of range",
     "output_type": "error",
     "traceback": [
      "\u001b[0;31m---------------------------------------------------------------------------\u001b[0m",
      "\u001b[0;31mIndexError\u001b[0m                                Traceback (most recent call last)",
      "\u001b[0;32m<ipython-input-3-fe6a5363db8d>\u001b[0m in \u001b[0;36m<module>\u001b[0;34m\u001b[0m\n\u001b[0;32m----> 1\u001b[0;31m \u001b[0mliste\u001b[0m\u001b[0;34m[\u001b[0m\u001b[0;36m3\u001b[0m\u001b[0;34m]\u001b[0m \u001b[0;34m=\u001b[0m \u001b[0;34m\"üç\"\u001b[0m\u001b[0;34m\u001b[0m\u001b[0;34m\u001b[0m\u001b[0m\n\u001b[0m",
      "\u001b[0;31mIndexError\u001b[0m: list assignment index out of range"
     ]
    }
   ],
   "source": [
    "liste[3] = \"üç\""
   ]
  },
  {
   "cell_type": "markdown",
   "metadata": {},
   "source": [
    "### Listeye eleman ekleme\n",
    "Bir listeye farklı yollardan eleman ekleyebiliriz:\n",
    "* **append:** `append()` komutu listenin sonuna belirttiğimiz elemanı ekler:"
   ]
  },
  {
   "cell_type": "code",
   "execution_count": 4,
   "metadata": {},
   "outputs": [
    {
     "name": "stdout",
     "output_type": "stream",
     "text": [
      "[1, 'bir', '3', 'üç']\n"
     ]
    }
   ],
   "source": [
    "liste.append(\"üç\")\n",
    "print(liste)"
   ]
  },
  {
   "cell_type": "markdown",
   "metadata": {},
   "source": [
    "* **insert:**\n",
    "  `insert()` komutu ile listenin istediğimiz bir yerine (aradan) bir eleman ekleriz:"
   ]
  },
  {
   "cell_type": "code",
   "execution_count": 5,
   "metadata": {},
   "outputs": [
    {
     "name": "stdout",
     "output_type": "stream",
     "text": [
      "[1, 'beş', 'bir', '3', 'üç']\n"
     ]
    }
   ],
   "source": [
    "liste.insert(1,\"beş\")\n",
    "print(liste)"
   ]
  },
  {
   "cell_type": "markdown",
   "metadata": {},
   "source": [
    "Görüldüğü üzere, 1 numaralı indise \"beş\" değeri eklenip, sağındaki değerler bir yana kaydırılmıştır."
   ]
  },
  {
   "cell_type": "markdown",
   "metadata": {},
   "source": [
    "* **extend:** Bazen listeye birden fazla değişken eklemek gerekir. Bu gibi durumlarda `extend()` komutu ile işimizi görürüz:"
   ]
  },
  {
   "cell_type": "code",
   "execution_count": 6,
   "metadata": {},
   "outputs": [
    {
     "name": "stdout",
     "output_type": "stream",
     "text": [
      "[1, 'beş', 'bir', '3', 'üç', 'yedi', 8]\n"
     ]
    }
   ],
   "source": [
    "liste.extend(['yedi',8])\n",
    "print(liste)"
   ]
  },
  {
   "cell_type": "markdown",
   "metadata": {},
   "source": [
    "* **Liste Birleştirme:** Son olarak, bazen elimizdeki iki listeyi birleştirip, yeni bir liste oluşturmak işimize en uygun çözüm olabilir. Bu gibi durumlarda da liste birleştirme işlemcisi olan `+` sembolünü kullanırız:"
   ]
  },
  {
   "cell_type": "code",
   "execution_count": 7,
   "metadata": {},
   "outputs": [
    {
     "name": "stdout",
     "output_type": "stream",
     "text": [
      "['sıfır', 1, 2, 3]\n",
      "['dört', 5, 2]\n",
      "['sıfır', 1, 2, 3, 'dört', 5, 2]\n"
     ]
    }
   ],
   "source": [
    "liste_1 = [\"sıfır\",1,2,3]\n",
    "liste_2 = [\"dört\",5,2]\n",
    "liste_son = liste_1 + liste_2\n",
    "\n",
    "print(liste_1)\n",
    "print(liste_2)\n",
    "print(liste_son)"
   ]
  },
  {
   "cell_type": "markdown",
   "metadata": {},
   "source": [
    "### Liste elemanlarına ulaşma\n",
    "Listenin bir kısım elemanına ulaşmak için, yukarıdaki örneklerde yaptığımız gibi ilgili elemanın indisini belirtebilir, ya da birden fazla elemana ulaşmak istiyorsak birden fazla indisi aralık veya tek tek girebiliriz:"
   ]
  },
  {
   "cell_type": "code",
   "execution_count": 8,
   "metadata": {},
   "outputs": [
    {
     "name": "stdout",
     "output_type": "stream",
     "text": [
      "Bütün listemiz:  ['sıfır', 1, 2, 3, 'dört', 5, 2]\n",
      "4 indisli eleman:  dört\n",
      "3, 4 ve 5 indisli elemanlar:  [3, 'dört', 5]\n",
      "3 indisli eleman ve sonrası:  [3, 'dört', 5, 2]\n",
      "Baştan 3 indisli elemana kadar olan elemanlar:  ['sıfır', 1, 2]\n"
     ]
    }
   ],
   "source": [
    "print(\"Bütün listemiz: \",liste_son)\n",
    "print(\"4 indisli eleman: \",liste_son[4])\n",
    "print(\"3, 4 ve 5 indisli elemanlar: \", liste_son[3:6])\n",
    "print(\"3 indisli eleman ve sonrası: \",liste_son[3:])\n",
    "print(\"Baştan 3 indisli elemana kadar olan elemanlar: \",liste_son[:3])"
   ]
  },
  {
   "cell_type": "markdown",
   "metadata": {},
   "source": [
    "Aralığı belirlerken -bir ihtimal GNU Octave'dan alışageldiğimiz üzere- `[3:5]` şeklinde değil de, `[3:6]` şeklinde yazdığımıza dikkat edin! Bunun sebebi, Python'da aralık belirtirken son değerin _kadar ve dahil_ şeklinde değil de, **_kadar_** olarak yorumlanmasıdır. Aralıklarda son değer içerilmez. Bu bir tercih meselesidir ve pek çok dilde (örn: C, C++, Go, Haskell, Java, JavaScript, Perl, PHP, Visual Basic) bu şekilde alınmaktadır -- bkz. [\"sıralı tam liste\" 8)](https://en.wikipedia.org/wiki/Comparison_of_programming_languages_%28array%29#Array_system_cross-reference_list). Bu şekildeki tercihin birçok açıklaması vardır, sözü _pirimiz_ [Edgar W. Dijkstra'ya bırakırsak](http://www.cs.utexas.edu/users/EWD/transcriptions/EWD08xx/EWD831.html) başlıca sebepler olarak:\n",
    "1. Başlangıç ve bitiş parametrelerinin farkı doğrudan aralıktaki eleman sayısını vermesini,\n",
    "2. Döngü kontrollerinde pratiklik ve tek işlem (sadece _küçük mü?_ değerlendirmesi) sağlamasını,\n",
    "3. (Ayrıca) Dizinin göstergecinin (_pointer_) doğrudan hafızadaki adresi olmasını ve bu adresin aynı zamanda ilk elemanın tutulduğu yerin başlangıcı olmasını,\n",
    "\n",
    "sayabiliriz.\n",
    "\n",
    "Ayrıca son iki örnekte görüldüğü üzere, başlangıç veya bitişin belirtilmediği durumlarda (sırası ile) 0 ve _eleman sayısı + 1_ alınır."
   ]
  },
  {
   "cell_type": "markdown",
   "metadata": {},
   "source": [
    "Python'da -özellikle de listenin eleman sayısını bilmediğimizde- negatif indisleri kullanarak **sondan** da ilerleyebiliriz. '-1' indisi her zaman için dizinin sonuncu elemanına; '-2' indisi sondan bir önceki elemanına, vs.. işaret eder. Aralıkları da benzer şekilde kullanabiliriz:"
   ]
  },
  {
   "cell_type": "code",
   "execution_count": 9,
   "metadata": {},
   "outputs": [
    {
     "name": "stdout",
     "output_type": "stream",
     "text": [
      "Bütün listemiz:  ['sıfır', 1, 2, 3, 'dört', 5, 2]\n",
      "\n",
      "Sonuncu eleman:  2\n",
      "Sonuncu eleman:  2\n",
      "Sondan bir önceki eleman:  5\n",
      "Sondan iki ve üç önceki elemanlar:  ['dört', 5]\n"
     ]
    }
   ],
   "source": [
    "print(\"Bütün listemiz: \",liste_son)\n",
    "print(\"\\nSonuncu eleman: \",liste_son[6])\n",
    "print(\"Sonuncu eleman: \",liste_son[-1])\n",
    "print(\"Sondan bir önceki eleman: \",liste_son[-2])\n",
    "print(\"Sondan iki ve üç önceki elemanlar: \",liste_son[-3:-1])"
   ]
  },
  {
   "cell_type": "markdown",
   "metadata": {},
   "source": [
    "Pozitif ve negatif indisleri birlikte de kullanabiliriz, örneğin, 3 indisli elemandan sondan ikinci elemana _kadar_ (dahil değil!) olan elemanlara:"
   ]
  },
  {
   "cell_type": "code",
   "execution_count": 10,
   "metadata": {},
   "outputs": [
    {
     "name": "stdout",
     "output_type": "stream",
     "text": [
      "3 indisli elemandan sondan ikinci elemana kadar olan elemanlar:  [3, 'dört']\n"
     ]
    }
   ],
   "source": [
    "print(\"3 indisli elemandan sondan ikinci elemana kadar olan elemanlar: \",liste_son[3:-2])"
   ]
  },
  {
   "cell_type": "markdown",
   "metadata": {},
   "source": [
    "şeklinde ulaşabiliriz.\n",
    "\n",
    "Listenin eleman sayısını bulmak içinse `len()` fonksiyonunu kullanırız:"
   ]
  },
  {
   "cell_type": "code",
   "execution_count": 11,
   "metadata": {},
   "outputs": [
    {
     "name": "stdout",
     "output_type": "stream",
     "text": [
      "Bütün listemiz:  ['sıfır', 1, 2, 3, 'dört', 5, 2]\n",
      "Listemizdeki eleman sayısı:  7\n"
     ]
    }
   ],
   "source": [
    "liste_son = ['sıfır', 1, 2, 3, 'dört', 5, 2]\n",
    "print(\"Bütün listemiz: \",liste_son)\n",
    "print(\"Listemizdeki eleman sayısı: \",len(liste_son))"
   ]
  },
  {
   "cell_type": "markdown",
   "metadata": {},
   "source": [
    "Son bir not olarak, aralıklarda başlangıç ve sondan başka, adım sayısını da belirtebiliriz (3. parametre olarak). Başlama ya da bitiş belirtilmezse, otomatik olarak -sırasıyla- ilk ve son elemanlar alınır. Örneğin:"
   ]
  },
  {
   "cell_type": "code",
   "execution_count": 12,
   "metadata": {},
   "outputs": [
    {
     "name": "stdout",
     "output_type": "stream",
     "text": [
      "[3, 5, 7]\n",
      "[0, 2, 4, 6]\n",
      "[1, 3, 5, 7, 9]\n",
      "\n",
      "[0, 2, 4, 6, 8]\n",
      "[0, 2, 4, 6, 8, 10]\n"
     ]
    }
   ],
   "source": [
    "sayilar = [0,1,2,3,4,5,6,7,8,9,10]\n",
    "print(sayilar[3:8:2]) # 3 indisten, 8'e kadar, 2 artarak gider\n",
    "print(sayilar[:8:2]) # İlk elemandan 8'e kadar, 2 artarak gider\n",
    "print(sayilar[1::2]) # 1 indisten, sona kadar, 2 artarak gider\n",
    "print(\"\")\n",
    "\n",
    "# Aşağıdaki iki aralık kullanımının farkına dikkat edin!\n",
    "print(sayilar[:10:2]) # Baştan 10'a *kadar* 2 artarak gider\n",
    "print(sayilar[::2]) # Baştan *sona* kadar (son dahil!) 2 artarak gider"
   ]
  },
  {
   "cell_type": "markdown",
   "metadata": {},
   "source": [
    "### Listeden eleman çıkarma\n",
    "Tıpkı eklemede olduğu üzere, listeden eleman çıkarmak için de birden fazla yöntem vardır:\n",
    "\n",
    "* **clear:** `clear()` komutu ile listeyi boşaltırız: "
   ]
  },
  {
   "cell_type": "code",
   "execution_count": 13,
   "metadata": {},
   "outputs": [
    {
     "name": "stdout",
     "output_type": "stream",
     "text": [
      "Mevcut liste:  ['A', 1, 2, 'üç']\n",
      "clear() çekilmiş liste:  []\n"
     ]
    }
   ],
   "source": [
    "liste_gidici = [\"A\",1,2,\"üç\"]\n",
    "print(\"Mevcut liste: \",liste_gidici)\n",
    "liste_gidici.clear()\n",
    "print(\"clear() çekilmiş liste: \",liste_gidici)"
   ]
  },
  {
   "cell_type": "markdown",
   "metadata": {},
   "source": [
    "* **pop:** istediğimiz bir indise sahip elemanı `pop()` komutu ile uçurabiliriz:"
   ]
  },
  {
   "cell_type": "code",
   "execution_count": 14,
   "metadata": {},
   "outputs": [
    {
     "name": "stdout",
     "output_type": "stream",
     "text": [
      "['sıfır', 2, 3, 'dört', 5, 2]\n"
     ]
    }
   ],
   "source": [
    "liste_son = ['sıfır', 1, 2, 3, 'dört', 5, 2]\n",
    "liste_son.pop(1)\n",
    "print(liste_son)"
   ]
  },
  {
   "cell_type": "markdown",
   "metadata": {},
   "source": [
    "indisler sözkonusu olduğundan, dilersek negatif indis de kullanabiliriz; örneğin sondan ikinci elemanı çıkarmak istersek:"
   ]
  },
  {
   "cell_type": "code",
   "execution_count": 15,
   "metadata": {},
   "outputs": [
    {
     "name": "stdout",
     "output_type": "stream",
     "text": [
      "['sıfır', 1, 2, 3, 'dört', 2]\n"
     ]
    }
   ],
   "source": [
    "liste_son = ['sıfır', 1, 2, 3, 'dört', 5, 2]\n",
    "liste_son.pop(-2)\n",
    "print(liste_son)"
   ]
  },
  {
   "cell_type": "markdown",
   "metadata": {},
   "source": [
    "İndis belirtilmediği durumda ise doğrudan son eleman çıkartılır."
   ]
  },
  {
   "cell_type": "markdown",
   "metadata": {},
   "source": [
    "`pop()`la ilgili faydalı bir özellik de, çıkardığı elemanın değerini döndürmesidir, örneğin:"
   ]
  },
  {
   "cell_type": "code",
   "execution_count": 16,
   "metadata": {},
   "outputs": [
    {
     "name": "stdout",
     "output_type": "stream",
     "text": [
      "['sıfır', 2, 3, 'dört', 5, 2]\n",
      "Listeden cikarttigimiz eleman:  1\n"
     ]
    }
   ],
   "source": [
    "liste_son = ['sıfır', 1, 2, 3, 'dört', 5, 2]\n",
    "cikan = liste_son.pop(1)\n",
    "print(liste_son)\n",
    "print(\"Listeden cikarttigimiz eleman: \",cikan)"
   ]
  },
  {
   "cell_type": "markdown",
   "metadata": {},
   "source": [
    "* **remove:** Listemizden belli bir değere sahip olan elemanı çıkartmak için `remove()` komutunu kullanırız. Örneğin, değeri \"5\" olan elemanı çıkartalım:"
   ]
  },
  {
   "cell_type": "code",
   "execution_count": 17,
   "metadata": {},
   "outputs": [
    {
     "name": "stdout",
     "output_type": "stream",
     "text": [
      "['sıfır', 1, 2, 3, 'dört', 2]\n"
     ]
    }
   ],
   "source": [
    "liste_son = ['sıfır', 1, 2, 3, 'dört', 5, 2]\n",
    "liste_son.remove(5)\n",
    "print(liste_son)"
   ]
  },
  {
   "cell_type": "markdown",
   "metadata": {},
   "source": [
    "`remove()` komutunu kullanırken dikkat edilmesi gereken şey, eğer belirttiğimiz değerden birden fazla varsa, sadece başa en yakın olanı çıkartacaktır. Örneğin, listemizden \"2\" değerini çıkarmasını istersek:"
   ]
  },
  {
   "cell_type": "code",
   "execution_count": 18,
   "metadata": {},
   "outputs": [
    {
     "name": "stdout",
     "output_type": "stream",
     "text": [
      "['sıfır', 1, 3, 'dört', 5, 2, 213]\n"
     ]
    }
   ],
   "source": [
    "liste_son = ['sıfır', 1, 2, 3, 'dört', 5, 2, 213]\n",
    "liste_son.remove(2)\n",
    "print(liste_son)"
   ]
  },
  {
   "cell_type": "markdown",
   "metadata": {},
   "source": [
    "* **del:** `del`i `pop()` gibi düşünebiliriz ama ona ek olarak, aralık boyunca da silme yapmamıza izin verir:"
   ]
  },
  {
   "cell_type": "code",
   "execution_count": 19,
   "metadata": {},
   "outputs": [
    {
     "name": "stdout",
     "output_type": "stream",
     "text": [
      "['sıfır', 1, 2, 'dört', 5, 2, 213]\n",
      "['sıfır', 1, 2, 'dört', 5, 213]\n",
      "['sıfır', 5, 213]\n"
     ]
    }
   ],
   "source": [
    "liste_son = ['sıfır', 1, 2, 3, 'dört', 5, 2, 213]\n",
    "\n",
    "# Tek bir eleman silelim\n",
    "del liste_son[3]\n",
    "print(liste_son)\n",
    "del liste_son[-2]\n",
    "print(liste_son)\n",
    "\n",
    "# Aralik silelim\n",
    "del liste_son[1:4]\n",
    "print(liste_son)"
   ]
  },
  {
   "cell_type": "markdown",
   "metadata": {},
   "source": [
    "Aralık verirken de yine pozitif indislerle negatif indisleri beraber kullanabiliriz:"
   ]
  },
  {
   "cell_type": "code",
   "execution_count": 20,
   "metadata": {},
   "outputs": [
    {
     "name": "stdout",
     "output_type": "stream",
     "text": [
      "['sıfır', 1, 2, 3, 'dört', 5, 2, 213]\n",
      "['sıfır', 1, 5, 2, 213]\n"
     ]
    }
   ],
   "source": [
    "liste_son = ['sıfır', 1, 2, 3, 'dört', 5, 2, 213]\n",
    "print(liste_son)\n",
    "# 2 indisli elemandan sondan 3. elemana *kadar* silelim\n",
    "del liste_son[2:-3]\n",
    "print(liste_son)"
   ]
  },
  {
   "cell_type": "markdown",
   "metadata": {},
   "source": [
    "### Listelerle ilgili faydalı komutlar / metotlar\n",
    "`len, index, in, count, sort, reverse, copy`\n",
    "\n",
    "Listelerin elemanlarına nasıl ulaşıp, ekleme-çıkartma yapabileceğimizi gördükten sonra, sıklıkla kullanılan komut ve metotları inceleyip, derleyelim:\n",
    "\n",
    "* **len:** listenin eleman sayısını döndürür:"
   ]
  },
  {
   "cell_type": "code",
   "execution_count": 21,
   "metadata": {},
   "outputs": [
    {
     "name": "stdout",
     "output_type": "stream",
     "text": [
      "Listemiz:  ['sıfır', 1, 2, 3, 'dört', 5, 2, 213]\n",
      "Listemizdeki eleman sayısı:  8\n"
     ]
    }
   ],
   "source": [
    "liste_son = ['sıfır', 1, 2, 3, 'dört', 5, 2, 213]\n",
    "print(\"Listemiz: \",liste_son)\n",
    "print(\"Listemizdeki eleman sayısı: \",len(liste_son))"
   ]
  },
  {
   "cell_type": "markdown",
   "metadata": {},
   "source": [
    "* **index:** İlgili listenin verilen elemanının indisini döndürür:"
   ]
  },
  {
   "cell_type": "code",
   "execution_count": 22,
   "metadata": {
    "scrolled": true
   },
   "outputs": [
    {
     "name": "stdout",
     "output_type": "stream",
     "text": [
      "Listemizde 'dört' değerinin indisi:  4\n",
      "Listemizde '213' değerinin indisi:  7\n"
     ]
    }
   ],
   "source": [
    "print(\"Listemizde 'dört' değerinin indisi: \",liste_son.index(\"dört\"))\n",
    "print(\"Listemizde '213' değerinin indisi: \",liste_son.index(213))"
   ]
  },
  {
   "cell_type": "markdown",
   "metadata": {},
   "source": [
    "Eğer aranılan değer listede yoksa hata ('ValueError') uyarısı verecektir:"
   ]
  },
  {
   "cell_type": "code",
   "execution_count": 23,
   "metadata": {},
   "outputs": [
    {
     "ename": "ValueError",
     "evalue": "777 is not in list",
     "output_type": "error",
     "traceback": [
      "\u001b[0;31m---------------------------------------------------------------------------\u001b[0m",
      "\u001b[0;31mValueError\u001b[0m                                Traceback (most recent call last)",
      "\u001b[0;32m<ipython-input-23-3617a6e8bbe1>\u001b[0m in \u001b[0;36m<module>\u001b[0;34m\u001b[0m\n\u001b[0;32m----> 1\u001b[0;31m \u001b[0mprint\u001b[0m\u001b[0;34m(\u001b[0m\u001b[0;34m\"Listemizde '777' değerinin indisi: \"\u001b[0m\u001b[0;34m,\u001b[0m\u001b[0mliste_son\u001b[0m\u001b[0;34m.\u001b[0m\u001b[0mindex\u001b[0m\u001b[0;34m(\u001b[0m\u001b[0;36m777\u001b[0m\u001b[0;34m)\u001b[0m\u001b[0;34m)\u001b[0m\u001b[0;34m\u001b[0m\u001b[0;34m\u001b[0m\u001b[0m\n\u001b[0m",
      "\u001b[0;31mValueError\u001b[0m: 777 is not in list"
     ]
    }
   ],
   "source": [
    "print(\"Listemizde '777' değerinin indisi: \",liste_son.index(777))"
   ]
  },
  {
   "cell_type": "markdown",
   "metadata": {},
   "source": [
    "Normal şartlarda hata alıp programın çalışmasının durması pek hoş değildir, bu nedenle ya bu hatayı yakalamaya çalışırız, ya da bir başka prosedür olan `in` yapısını kullanırız:"
   ]
  },
  {
   "cell_type": "markdown",
   "metadata": {},
   "source": [
    "**Hatayı yakalamak suretiyle icabına bakmak**  \n",
    "(Bu yol biraz daha ileri bir teknik, şimdilik atlayabilirsiniz)"
   ]
  },
  {
   "cell_type": "code",
   "execution_count": 24,
   "metadata": {},
   "outputs": [
    {
     "name": "stdout",
     "output_type": "stream",
     "text": [
      "777  değeri listede bulunamadı.\n",
      "777  değerinin bulunduğu indis:  yok\n",
      "---------------------\n",
      "213  değerinin bulunduğu indis:  7\n"
     ]
    }
   ],
   "source": [
    "indis = \"yok\"\n",
    "deger = 777\n",
    "try:\n",
    "    indis = liste_son.index(deger)\n",
    "except ValueError:\n",
    "    print(deger,\" değeri listede bulunamadı.\")\n",
    "print(deger,\" değerinin bulunduğu indis: \",indis)\n",
    "\n",
    "print(\"---------------------\")\n",
    "\n",
    "deger = 213\n",
    "try:\n",
    "    indis = liste_son.index(213)\n",
    "except ValueError:\n",
    "    print(deger,\" değeri listede bulunamadı.\")\n",
    "print(deger,\" değerinin bulunduğu indis: \",indis)\n"
   ]
  },
  {
   "cell_type": "markdown",
   "metadata": {},
   "source": [
    "**`in` prosedürünün kullanımı ile işimizi görmek:**"
   ]
  },
  {
   "cell_type": "code",
   "execution_count": 25,
   "metadata": {},
   "outputs": [
    {
     "name": "stdout",
     "output_type": "stream",
     "text": [
      "True\n",
      "False\n"
     ]
    }
   ],
   "source": [
    "print(\"dört\" in liste_son)\n",
    "print(777 in liste_son)"
   ]
  },
  {
   "cell_type": "markdown",
   "metadata": {},
   "source": [
    "* **count:** Bir değerin listede kaç kere bulunduğunu verir:"
   ]
  },
  {
   "cell_type": "code",
   "execution_count": 26,
   "metadata": {},
   "outputs": [
    {
     "name": "stdout",
     "output_type": "stream",
     "text": [
      "Listemiz:  ['sıfır', 1, 2, 3, 'dört', 5, 2, 213, 2]\n",
      "Listemizde 2 değerinden  3  adet vardır.\n",
      "Listemizde 'dört' değerinden  1  adet vardır.\n",
      "Listemizde 219 değerinden  0  adet vardır.\n"
     ]
    }
   ],
   "source": [
    "liste_son = ['sıfır', 1, 2, 3, 'dört', 5, 2, 213, 2]\n",
    "print(\"Listemiz: \",liste_son)\n",
    "print(\"Listemizde 2 değerinden \",liste_son.count(2),\" adet vardır.\")\n",
    "print(\"Listemizde 'dört' değerinden \",liste_son.count(\"dört\"),\" adet vardır.\")\n",
    "print(\"Listemizde 219 değerinden \",liste_son.count(219),\" adet vardır.\")"
   ]
  },
  {
   "cell_type": "markdown",
   "metadata": {},
   "source": [
    "(yukarıdaki örneğimizde de göreceğiniz üzere, listede aranan değerin bulunmaması durumunda hata değil, 0 değerini alırız)"
   ]
  },
  {
   "cell_type": "markdown",
   "metadata": {},
   "source": [
    "* **sort:** Listeyi sıralamakta kullanılır. Standard dışı bir sıralama için ek parametreleri kabul eder. Dikkat edilecek nokta, bunun bir işlem olmasıdır. Listeyi sıralayıp, o hale getirir, bir sonuç döndürmez, yani `print(\"Sıralı listemiz: \",liste_sayilar.sort())` komutunu çalıştırdığımızda ekrana listeye dair bir şey yazılmaz ama liste çevrilmiş olur; bu sebepten önce sıralama işlemini yapıp, sonra listeyi yazdırabiliriz (bkz. aşağıdaki örnek)."
   ]
  },
  {
   "cell_type": "code",
   "execution_count": 27,
   "metadata": {},
   "outputs": [
    {
     "name": "stdout",
     "output_type": "stream",
     "text": [
      "Sayı listemiz:  [67, 1, 6, 2, 3, 5, 2, 213, 2]\n",
      "Sıralı sayı listemiz:  [1, 2, 2, 2, 3, 5, 6, 67, 213]\n",
      "---------------\n",
      "İsim listemiz:  ['Berk', 'Ahmet', 'Cengiz', 'Ebru']\n",
      "Sıralı isim listemiz:  ['Ahmet', 'Berk', 'Cengiz', 'Ebru']\n"
     ]
    }
   ],
   "source": [
    "liste_sayilar = [67, 1, 6, 2, 3, 5, 2, 213, 2]\n",
    "print(\"Sayı listemiz: \",liste_sayilar)\n",
    "liste_sayilar.sort() # listemizi siraladik\n",
    "print(\"Sıralı sayı listemiz: \",liste_sayilar)\n",
    "\n",
    "print(\"---------------\")\n",
    "\n",
    "liste_isimler = [\"Berk\",\"Ahmet\",\"Cengiz\",\"Ebru\"]\n",
    "print(\"İsim listemiz: \",liste_isimler)\n",
    "liste_isimler.sort() # listemizi siraladik\n",
    "print(\"Sıralı isim listemiz: \",liste_isimler)\n",
    "\n"
   ]
  },
  {
   "cell_type": "markdown",
   "metadata": {},
   "source": [
    "**Dikkat!** Sort metodu karma veri tipleriyle (örneğin sayılar ve stringler) doğrudan çalışamamaktadır (bu iş için yukarıda bahsettiğimiz `key` ek kıstas parametresi/bilgisini kullanmak gerekir)."
   ]
  },
  {
   "cell_type": "markdown",
   "metadata": {},
   "source": [
    "* **reverse:** Listemizin sırasını tersine çevirir -- bu metot da, tıpkı `sort()` gibi, doğrudan liste üzerine etki eder."
   ]
  },
  {
   "cell_type": "code",
   "execution_count": 28,
   "metadata": {},
   "outputs": [
    {
     "name": "stdout",
     "output_type": "stream",
     "text": [
      "Listemiz:  ['sıfır', 1, 2, 3, 'dört', 5, 2, 213, 2]\n",
      "Tersine çevrilmiş listemiz:  [2, 213, 2, 5, 'dört', 3, 2, 1, 'sıfır']\n"
     ]
    }
   ],
   "source": [
    "liste_son = ['sıfır', 1, 2, 3, 'dört', 5, 2, 213, 2]\n",
    "print(\"Listemiz: \",liste_son)\n",
    "liste_son.reverse()\n",
    "print(\"Tersine çevrilmiş listemiz: \",liste_son)"
   ]
  },
  {
   "cell_type": "markdown",
   "metadata": {},
   "source": [
    "* **Liste kopyalama:** Liste kopyalama işlemi, bir ihtimal `liste_2 = liste_1` şeklinde sanılabileceği kadar kolay değildir. Aşağıdaki örneğe bir göz atalım:"
   ]
  },
  {
   "cell_type": "code",
   "execution_count": 29,
   "metadata": {},
   "outputs": [
    {
     "name": "stdout",
     "output_type": "stream",
     "text": [
      "[1, 2, 3, 4]\n"
     ]
    }
   ],
   "source": [
    "liste_1 = [1,2,3]\n",
    "liste_2 = liste_1\n",
    "liste_1.append(4)\n",
    "print(liste_2)"
   ]
  },
  {
   "cell_type": "markdown",
   "metadata": {},
   "source": [
    "Nasıl yani??? Biz, `liste_1`'e, `liste_2`'yi onun önceki halini eşitledikten sonra eleman eklemiştik -- nasıl oldu da sonradan eklediğimiz eleman `liste_2`'ye de eklendi???\n",
    "\n",
    "Bunun sebebi, dilin yapısından kaynaklanmaktadır. Değişken isimleri aslında göstergeç (_pointer_) denilen, değerin tutulduğu adresi saklamakla yükümlüdürler. Tek değerli değişkenlerde birebir ilişki olsa da, birden fazla değişkeni tutan derleme yapılarda, isim doğrudan adresi gösterir. Bu yüzden `liste_2 = liste_1` dediğimizde, `liste_1`'de tutulan adres bilgisi `liste_2`'ye atanır (ikisi de aynı yeri gösterir). Bunu da daha açık bir şekilde -bir nevi- adresleri gösteren `id()` komutu ile kontrol edebiliriz:"
   ]
  },
  {
   "cell_type": "code",
   "execution_count": 30,
   "metadata": {},
   "outputs": [
    {
     "name": "stdout",
     "output_type": "stream",
     "text": [
      "liste_1'in  adresi:  140044461705288\n",
      "liste_2'nin adresi:  140044461705288\n"
     ]
    }
   ],
   "source": [
    "print(\"liste_1'in  adresi: \",id(liste_1))\n",
    "print(\"liste_2'nin adresi: \",id(liste_2))"
   ]
  },
  {
   "cell_type": "markdown",
   "metadata": {},
   "source": [
    "Bundan ötürü `liste_1`'de değişiklik yapsak, `liste_2`'de de yapsak, ikisinin de etkilenmek üzere gösterdiği adres aynı olduğundan ikisi de değişir (yazılımda bu durumlar yumuşak kopya (_soft copy_) olarak da adlandırılır).\n",
    "\n",
    "Eğer yapmak istediğimiz _gerçekten_ birbirlerine o anda eşit, ama sonrasında bağımsız iki liste oluşturmaksa, bunu da `copy()` metodu ile elde ederiz:"
   ]
  },
  {
   "cell_type": "code",
   "execution_count": 31,
   "metadata": {},
   "outputs": [
    {
     "name": "stdout",
     "output_type": "stream",
     "text": [
      "[1, 2, 3]\n",
      "liste_1'in  adresi:  140044461270344\n",
      "liste_2'nin adresi:  140044461272328\n"
     ]
    }
   ],
   "source": [
    "liste_1 = [1,2,3]\n",
    "liste_2 = liste_1.copy()\n",
    "liste_1.append(4)\n",
    "print(liste_2)\n",
    "\n",
    "print(\"liste_1'in  adresi: \",id(liste_1))\n",
    "print(\"liste_2'nin adresi: \",id(liste_2))"
   ]
  },
  {
   "cell_type": "markdown",
   "metadata": {},
   "source": [
    "Bir listenin bazı elemanlarını bir başka liste olarak atamak istediğimizi düşünelim:"
   ]
  },
  {
   "cell_type": "code",
   "execution_count": 32,
   "metadata": {},
   "outputs": [
    {
     "name": "stdout",
     "output_type": "stream",
     "text": [
      "liste_1:  ['sıfır', 1, 2, 3, 'dört', 5, 2, 213, 2]\n",
      "liste_2:  [2, 3, 'dört', 5]\n"
     ]
    }
   ],
   "source": [
    "liste_1 = ['sıfır', 1, 2, 3, 'dört', 5, 2, 213, 2]\n",
    "print(\"liste_1: \",liste_1)\n",
    "\n",
    "# Bu listenin 2 indisli elemanından \n",
    "# sondan 3. elemanına kadar olan elemanları\n",
    "# liste_2 olarak atayalım:\n",
    "liste_2 = liste_1[2:-3]\n",
    "print(\"liste_2: \",liste_2)"
   ]
  },
  {
   "cell_type": "markdown",
   "metadata": {},
   "source": [
    "İkinci liste, birinci listenin bazı elemanlarını çağırıp eşitlediğimizden, birinci listeden bağımsız. Bunu, birinci listenin 4 indisli elemanını değiştirerek kontrol edebiliriz:"
   ]
  },
  {
   "cell_type": "code",
   "execution_count": 33,
   "metadata": {},
   "outputs": [
    {
     "name": "stdout",
     "output_type": "stream",
     "text": [
      "dört\n",
      "liste_1:  ['sıfır', 1, 2, 3, 'four', 5, 2, 213, 2]\n",
      "liste_2:  [2, 3, 'dört', 5]\n",
      "----------\n",
      "liste_1'in  adresi:  140044490008392\n",
      "liste_2'nin adresi:  140044461270344\n"
     ]
    }
   ],
   "source": [
    "print(liste_1[4])\n",
    "liste_1[4] = \"four\"\n",
    "print(\"liste_1: \",liste_1)\n",
    "print(\"liste_2: \",liste_2)\n",
    "print(\"----------\")\n",
    "print(\"liste_1'in  adresi: \",id(liste_1))\n",
    "print(\"liste_2'nin adresi: \",id(liste_2))"
   ]
  },
  {
   "cell_type": "markdown",
   "metadata": {},
   "source": [
    "Görüldüğü üzere, biz ikinci listenin ilgili elemanını birinci listeden almış olsak da, sonrasında birinci listede ilgili eleman değişse bile, listeler bağımsız olduğundan, ikinci liste bu değişiklikten etkilenmemekte.\n",
    "\n",
    "Bu özelliği uça götürüp, ikinci listeyi, birinci listenin _tüm elemanlarına_ (`liste_1[:]`) da eşitleyerek tanımlayabiliriz -- sonuç yine iki bağımsız liste olacaktır:"
   ]
  },
  {
   "cell_type": "code",
   "execution_count": 34,
   "metadata": {},
   "outputs": [
    {
     "name": "stdout",
     "output_type": "stream",
     "text": [
      "[1, 2, 3]\n",
      "liste_1'in  adresi:  140044461269512\n",
      "liste_2'nin adresi:  140044461272200\n"
     ]
    }
   ],
   "source": [
    "liste_1 = [1,2,3]\n",
    "liste_2 = liste_1[:]\n",
    "liste_1.append(4)\n",
    "print(liste_2)\n",
    "\n",
    "print(\"liste_1'in  adresi: \",id(liste_1))\n",
    "print(\"liste_2'nin adresi: \",id(liste_2))"
   ]
  },
  {
   "cell_type": "markdown",
   "metadata": {},
   "source": [
    "## Sözlükler"
   ]
  },
  {
   "cell_type": "markdown",
   "metadata": {},
   "source": [
    "Sözlükler (_dictionary_), girişte de kısaca bahsedildiği üzere, GNU Octave'daki _hücre dizilerine_ benzerler. Listelerden farkı, indislerin de tanımlanabilir olmasıdır. Bir sözlüğün indisini _özellik_ veya _anahtar_ (_key_) terimleri ile belirtiriz."
   ]
  },
  {
   "cell_type": "markdown",
   "metadata": {},
   "source": [
    "### Sözlük tanımlama / özellik ekleme\n",
    "Hemen örneğe geçip, bir `ogrenci` sözlüğü üzerinden, özellikleri tanımlayalım:"
   ]
  },
  {
   "cell_type": "code",
   "execution_count": 35,
   "metadata": {},
   "outputs": [
    {
     "name": "stdout",
     "output_type": "stream",
     "text": [
      "'ogrenci_1' sözlüğümüz:  {'ad': 'Ayşe Celik', 'numara': 12345678}\n",
      "Öğrencinin Adı:  Ayşe Celik\n",
      "Öğrencinin Numarası:  12345678\n"
     ]
    }
   ],
   "source": [
    "# Bos bir sozluk tanimlayarak baslayalim:\n",
    "ogrenci_1 = {}\n",
    "\n",
    "# ad ve numara ozelliklerini ekleyelim:\n",
    "ogrenci_1[\"ad\"]=\"Ayşe Celik\"\n",
    "ogrenci_1[\"numara\"] = 12345678\n",
    "\n",
    "# ozellikleri ille tek tek girmek zorunda da degiliz\n",
    "#ogrenci[\"matematik 123\":\"B1\", \"fizik 125\":\"A2\", \"giris yili\":20191]\n",
    "\n",
    "print(\"'ogrenci_1' sözlüğümüz: \",ogrenci_1)\n",
    "print(\"Öğrencinin Adı: \",ogrenci_1[\"ad\"])\n",
    "print(\"Öğrencinin Numarası: \",ogrenci_1[\"numara\"])"
   ]
  },
  {
   "cell_type": "markdown",
   "metadata": {},
   "source": [
    "Özellikleri, başta sözlüğümüzü tanımlarken de girebiliriz:"
   ]
  },
  {
   "cell_type": "code",
   "execution_count": 36,
   "metadata": {},
   "outputs": [
    {
     "name": "stdout",
     "output_type": "stream",
     "text": [
      "'ogrenci_2' sözlüğümüz:  {'ad': 'Barış Ateş', 'numara': 21912123}\n",
      "Öğrencinin Adı:  Barış Ateş\n",
      "Öğrencinin Numarası:  21912123\n"
     ]
    }
   ],
   "source": [
    "ogrenci_2 = {\"ad\":\"Barış Ateş\", \"numara\":21912123}\n",
    "print(\"'ogrenci_2' sözlüğümüz: \",ogrenci_2)\n",
    "print(\"Öğrencinin Adı: \",ogrenci_2[\"ad\"])\n",
    "print(\"Öğrencinin Numarası: \",ogrenci_2[\"numara\"])"
   ]
  },
  {
   "cell_type": "markdown",
   "metadata": {},
   "source": [
    "Dahası, `update()` metodunu kullanarak halihazırda mevcut bir sözlüğe, topluca özellik eklemesi de yapabiliriz:"
   ]
  },
  {
   "cell_type": "code",
   "execution_count": 37,
   "metadata": {},
   "outputs": [
    {
     "name": "stdout",
     "output_type": "stream",
     "text": [
      "'ogrenci_2' sözlüğümüz:  {'ad': 'Barış Ateş', 'numara': 21912123}\n",
      "----------\n",
      "'ogrenci_2' sözlüğümüz:  {'ad': 'Barış Ateş', 'numara': 21912123, 'matematik 123': 'B1', 'fizik 125': 'A2', 'giris yili': 20191}\n",
      "\n",
      "Öğrencinin Adı:  Barış Ateş\n",
      "Öğrencinin Numarası:  21912123\n",
      "Öğrencinin giriş yılı:  20191\n",
      "Öğrencinin Matematik 123 notu:  B1\n",
      "Öğrencinin Fizik 125 notu:  A2\n"
     ]
    }
   ],
   "source": [
    "ogrenci_2 = {\"ad\":\"Barış Ateş\", \"numara\":21912123}\n",
    "print(\"'ogrenci_2' sözlüğümüz: \",ogrenci_2)\n",
    "\n",
    "print(\"----------\")\n",
    "\n",
    "ogrenci_2.update({\"matematik 123\":\"B1\", \"fizik 125\":\"A2\", \"giris yili\":20191})\n",
    "print(\"'ogrenci_2' sözlüğümüz: \",ogrenci_2)\n",
    "print()\n",
    "print(\"Öğrencinin Adı: \",ogrenci_2[\"ad\"])\n",
    "print(\"Öğrencinin Numarası: \",ogrenci_2[\"numara\"])\n",
    "print(\"Öğrencinin giriş yılı: \",ogrenci_2[\"giris yili\"])\n",
    "print(\"Öğrencinin Matematik 123 notu: \",ogrenci_2[\"matematik 123\"])\n",
    "print(\"Öğrencinin Fizik 125 notu: \",ogrenci_2[\"fizik 125\"])"
   ]
  },
  {
   "cell_type": "markdown",
   "metadata": {},
   "source": [
    "Bir özellik tanımlanırken, önceden tanımlanmışsa, yeni değerle güncellenir; halihazırda tanımlı değilse o özellik eklenir:"
   ]
  },
  {
   "cell_type": "code",
   "execution_count": 38,
   "metadata": {
    "scrolled": true
   },
   "outputs": [
    {
     "name": "stdout",
     "output_type": "stream",
     "text": [
      "Öğrencinin Adı:  Barış Cengiz Ateş\n",
      "Öğrencinin Numarası:  21912123\n",
      "Öğrencinin giriş yılı:  20191\n",
      "Öğrencinin Matematik 123 notu:  B1\n",
      "Öğrencinin Fizik 125 notu:  A2\n",
      "Öğrencinin Kimya 155 notu:  C1\n",
      "---------------\n",
      "Öğrencinin Adı:  Barış Cengiz Ateş\n",
      "Öğrencinin Numarası:  21912123\n",
      "Öğrencinin giriş yılı:  20191\n",
      "Öğrencinin Matematik 123 notu:  B1\n",
      "Öğrencinin Fizik 125 notu:  A2\n",
      "Öğrencinin Fizik Lab 101 notu:  C3\n",
      "Öğrencinin Kimya 155 notu:  B2\n"
     ]
    }
   ],
   "source": [
    "ogrenci_2 = {'ad': 'Barış Ateş', 'numara': 21912123, 'matematik 123': 'B1', 'fizik 125': 'A2', 'giris yili': 20191}\n",
    "\n",
    "# Daha onceden tanimli olan \"ad\" ozelligini guncelliyoruz:\n",
    "ogrenci_2[\"ad\"] = \"Barış Cengiz Ateş\"\n",
    "\n",
    "# Daha onceden tanimlanmamis olan \"kimya 155\" ozelligini ekliyoruz:\n",
    "ogrenci_2[\"kimya 155\"] = \"C1\"\n",
    "\n",
    "print(\"Öğrencinin Adı: \",ogrenci_2[\"ad\"])\n",
    "print(\"Öğrencinin Numarası: \",ogrenci_2[\"numara\"])\n",
    "print(\"Öğrencinin giriş yılı: \",ogrenci_2[\"giris yili\"])\n",
    "print(\"Öğrencinin Matematik 123 notu: \",ogrenci_2[\"matematik 123\"])\n",
    "print(\"Öğrencinin Fizik 125 notu: \",ogrenci_2[\"fizik 125\"])\n",
    "print(\"Öğrencinin Kimya 155 notu: \",ogrenci_2[\"kimya 155\"])\n",
    "\n",
    "print(\"---------------\")\n",
    "\n",
    "# update() metodu ile toplu guncelleme/ekleme yapabiliriz:\n",
    "ogrenci_2.update({\"kimya 155\":\"B2\",\"fizik lab 101\":\"C3\"})\n",
    "print(\"Öğrencinin Adı: \",ogrenci_2[\"ad\"])\n",
    "print(\"Öğrencinin Numarası: \",ogrenci_2[\"numara\"])\n",
    "print(\"Öğrencinin giriş yılı: \",ogrenci_2[\"giris yili\"])\n",
    "print(\"Öğrencinin Matematik 123 notu: \",ogrenci_2[\"matematik 123\"])\n",
    "print(\"Öğrencinin Fizik 125 notu: \",ogrenci_2[\"fizik 125\"])\n",
    "print(\"Öğrencinin Fizik Lab 101 notu: \",ogrenci_2[\"fizik lab 101\"])\n",
    "print(\"Öğrencinin Kimya 155 notu: \",ogrenci_2[\"kimya 155\"])"
   ]
  },
  {
   "cell_type": "markdown",
   "metadata": {},
   "source": [
    "### Sözlükten özellik silme\n",
    "Silmek istediğiniz özelliğin değerini `del` (`del sozluk[\"ozellik\"]`) komutuyla silebilirsiniz:"
   ]
  },
  {
   "cell_type": "code",
   "execution_count": 39,
   "metadata": {},
   "outputs": [
    {
     "name": "stdout",
     "output_type": "stream",
     "text": [
      "'ogrenci_2' sözlüğümüz:  {'ad': 'Barış Ateş', 'numara': 21912123, 'matematik 123': 'B1', 'fizik 125': 'A2', 'giris yili': 20191}\n",
      "'ogrenci_2' sözlüğümüz:  {'ad': 'Barış Ateş', 'numara': 21912123, 'fizik 125': 'A2', 'giris yili': 20191}\n"
     ]
    }
   ],
   "source": [
    "ogrenci_2 = {'ad': 'Barış Ateş', 'numara': 21912123, 'matematik 123': 'B1', 'fizik 125': 'A2', 'giris yili': 20191}\n",
    "print(\"'ogrenci_2' sözlüğümüz: \",ogrenci_2)\n",
    "\n",
    "# Matematik 123 not bilgisini silelim:\n",
    "del ogrenci_2[\"matematik 123\"]\n",
    "print(\"'ogrenci_2' sözlüğümüz: \",ogrenci_2)"
   ]
  },
  {
   "cell_type": "markdown",
   "metadata": {},
   "source": [
    "### Sözlüğün anahtarlarını (özelliklerini) öğrenme\n",
    "Sözlük değişkeninin sahip olduğu özelliklerin listesini `list()` komutu ile elde ederiz:"
   ]
  },
  {
   "cell_type": "code",
   "execution_count": 40,
   "metadata": {},
   "outputs": [
    {
     "name": "stdout",
     "output_type": "stream",
     "text": [
      "ogrenci_2 sözlüğünün anahtarları (özellikleri):  ['ad', 'numara', 'matematik 123', 'fizik 125', 'giris yili']\n"
     ]
    }
   ],
   "source": [
    "ogrenci_2 = {'ad': 'Barış Ateş', 'numara': 21912123, 'matematik 123': 'B1', 'fizik 125': 'A2', 'giris yili': 20191}\n",
    "print(\"ogrenci_2 sözlüğünün anahtarları (özellikleri): \", list(ogrenci_2))"
   ]
  },
  {
   "cell_type": "markdown",
   "metadata": {},
   "source": [
    "Adından da anlaşılacağı üzere, `list()` komutu bize anahtarları bir liste halinde verir (giriliş sırası ile). Döndürdüğü sonuç liste cinsinden olduğundan, bütün liste metotlarını ve indisle ulaşmasını kullanabiliriz:"
   ]
  },
  {
   "cell_type": "markdown",
   "metadata": {},
   "source": [
    "Aynı anda hem anahtarı, hem de değeri almak içinse `items()` metodundan faydalanırız:"
   ]
  },
  {
   "cell_type": "code",
   "execution_count": 41,
   "metadata": {
    "scrolled": true
   },
   "outputs": [
    {
     "name": "stdout",
     "output_type": "stream",
     "text": [
      "ogrenci_2 sözlüğünün 2 ve 3 indisli anahtarları:  ['matematik 123', 'fizik 125']\n",
      "dict_items([('ad', 'Barış Ateş'), ('numara', 21912123), ('matematik 123', 'B1'), ('fizik 125', 'A2'), ('giris yili', 20191)])\n"
     ]
    }
   ],
   "source": [
    "ogrenci_2 = {'ad': 'Barış Ateş', 'numara': 21912123, 'matematik 123': 'B1', 'fizik 125': 'A2', 'giris yili': 20191}\n",
    "ogrenci_2_anahtarlar = list(ogrenci_2)\n",
    "print(\"ogrenci_2 sözlüğünün 2 ve 3 indisli anahtarları: \", ogrenci_2_anahtarlar[2:4])\n",
    "\n",
    "print(ogrenci_2.items())"
   ]
  },
  {
   "cell_type": "markdown",
   "metadata": {},
   "source": [
    "## Listeler ile sözlükler birbirlerini çok severlerse...\n",
    "Listeler ile sözlükleri birbirleri içinde geçişli olarak kullanmak mümkündür (_sözlük listeleri_, _liste listeleri_, _sözlük sözlükleri_, vs..). Bu bize veri derlerken müthiş bir esneklik sağlar. Örneğin, sözlük olarak tanımladığımız `ogrenci` sözlüklerimizi bir liste altında derleyelim:"
   ]
  },
  {
   "cell_type": "code",
   "execution_count": 42,
   "metadata": {},
   "outputs": [
    {
     "name": "stdout",
     "output_type": "stream",
     "text": [
      "[{'ad': 'Ayşe Celik', 'numara': 12345678}, {'ad': 'Barış Ateş', 'numara': 21912123, 'matematik 123': 'B1', 'fizik 125': 'A2', 'giris yili': 20191}]\n",
      "--------\n",
      "0 indisli öğrencinin adı:  Ayşe Celik\n",
      "1 indisli öğrencinin adı:  Barış Ateş\n"
     ]
    }
   ],
   "source": [
    "ogrenci_1 = {'ad': 'Ayşe Celik', 'numara': 12345678}\n",
    "ogrenci_2 = {'ad': 'Barış Ateş', 'numara': 21912123, 'matematik 123': 'B1', 'fizik 125': 'A2', 'giris yili': 20191}\n",
    "\n",
    "ogrenciler_listesi = [ogrenci_1, ogrenci_2]\n",
    "print(ogrenciler_listesi)\n",
    "\n",
    "print (\"--------\")\n",
    "print (\"0 indisli öğrencinin adı: \",ogrenciler_listesi[0][\"ad\"])\n",
    "print (\"1 indisli öğrencinin adı: \",ogrenciler_listesi[1][\"ad\"])"
   ]
  },
  {
   "cell_type": "markdown",
   "metadata": {},
   "source": [
    "(normal uygulamalarda böyle 0., 1. diye tek tek çağırmayacağız tabii: bir döngü üzerinden güzelce işleyeceğiz derlenmiş bilgileri ama o kısım `for` döngüsünü öğrenince gelecek. ;)"
   ]
  },
  {
   "cell_type": "markdown",
   "metadata": {},
   "source": [
    "# Bilerek bahsedilmeyenler\n",
    "**Bir listenin verilen -ardışık olmayan- indislerdeki elemanlarına ulaşmak**  \n",
    "GNU Octave'ın aksine (örn: `liste_son[2,4]`), maalesef bunu yapmanın doğrudan bir yolu yoktur. \n",
    "\n",
    "Ama boş geçmemek adına:"
   ]
  },
  {
   "cell_type": "code",
   "execution_count": 43,
   "metadata": {
    "scrolled": true
   },
   "outputs": [
    {
     "name": "stdout",
     "output_type": "stream",
     "text": [
      "1. yöntem (map() + __getitem__):  [2, 'dört']\n",
      "2. yöntem (operator.itemgetter):  [2, 'dört']\n"
     ]
    }
   ],
   "source": [
    "liste_son = ['sıfır', 1, 2, 3, 'dört', 5, 2]\n",
    "# 2 ve 4 indisli elemanlara ulaşalım:\n",
    "\n",
    "# 1. yöntem: map() + __getitem__ fonksiyon ve metotları ile:\n",
    "liste_24_1 = list(map(liste_son.__getitem__,[2,4]))\n",
    "print(\"1. yöntem (map() + __getitem__): \",liste_24_1)\n",
    "\n",
    "# 2. yöntem: operator modülünden itemgetter() fonksiyonunu kullanarak:\n",
    "from operator import itemgetter\n",
    "liste_24_2 = list(itemgetter(*[2,4])(liste_son))\n",
    "print(\"2. yöntem (operator.itemgetter): \",liste_24_2)"
   ]
  },
  {
   "cell_type": "markdown",
   "metadata": {},
   "source": [
    "Neyse ki -pek çok diğer derdin yanında- bu dertten de bizi NumPy dizileri kurtarıyor:"
   ]
  },
  {
   "cell_type": "code",
   "execution_count": 44,
   "metadata": {},
   "outputs": [
    {
     "name": "stdout",
     "output_type": "stream",
     "text": [
      "['2' 'dört']\n"
     ]
    }
   ],
   "source": [
    "import numpy as np\n",
    "liste_son_np = np.array(['sıfır', 1, 2, 3, 'dört', 5, 2])\n",
    "print(liste_son_np[[2,4]])"
   ]
  },
  {
   "cell_type": "markdown",
   "metadata": {},
   "source": [
    "**Bir listeden belli bir değere sahip olan tüm elemanları çıkartmak**\n",
    "`remove()` komutunun sadece ilk bulduğu elemanı çıkardığını, gerisine karışmadığını gördük, ama bazen bütün ilgili değerleri çıkarmak isteyebiliriz. Bu durumda `filter()` fonksiyonu yardımımıza koşmakta:"
   ]
  },
  {
   "cell_type": "code",
   "execution_count": 45,
   "metadata": {
    "scrolled": true
   },
   "outputs": [
    {
     "name": "stdout",
     "output_type": "stream",
     "text": [
      "['sıfır', 1, 3, 'dört', 5]\n"
     ]
    }
   ],
   "source": [
    "liste_son = ['sıfır', 1, 2, 3, 'dört', 5, 2]\n",
    "liste_son_filtre = list(filter(lambda x: x != 2, liste_son))\n",
    "print(liste_son_filtre)"
   ]
  },
  {
   "cell_type": "markdown",
   "metadata": {},
   "source": [
    "(oradaki `lambda` yönergesi tek satırda, tek kullanımlık fonksiyon yazmamızı sağlayan bir yönerge)"
   ]
  },
  {
   "cell_type": "markdown",
   "metadata": {},
   "source": [
    "Ya da `filter`'ı bir kenara bırakıp doğrudan `for`+`if` kombosu çekebiliriz:"
   ]
  },
  {
   "cell_type": "code",
   "execution_count": 46,
   "metadata": {},
   "outputs": [
    {
     "name": "stdout",
     "output_type": "stream",
     "text": [
      "['sıfır', 1, 3, 'dört', 5]\n"
     ]
    }
   ],
   "source": [
    "liste_son = ['sıfır', 1, 2, 3, 'dört', 5, 2]\n",
    "liste_son_filtre = list(s for s in liste_son if s != 2)\n",
    "print(liste_son_filtre)"
   ]
  },
  {
   "cell_type": "markdown",
   "metadata": {},
   "source": [
    "**Demetler (_Tuple_) nerede, niye bahsedilmedi?** Demetler pek çok açıdan listelere benzese de, listelerin aksine _değiştirilemezler_ (_immutable_). Yani bir demete _(doğrudan)_ yeni eleman ekleyemez, içinden eleman çıkaramaz, mevcut elemanı da değiştiremezsiniz. E o zaman ne anladık? diyebilirsiniz ama demetlerin kullanımının avantajlı olduğu yerler de vardır (referans tabloları ve kayıtlar gibi, sabit kalmasını istediğimiz verileri demetlerde toplarız). Demetleri tanımlarken normal parantezler kullanırız, ama elemanlarına ulaşırken tıpkı listelerdeki gibi köşeli parantezlerle ulaşırız örneğin:"
   ]
  },
  {
   "cell_type": "code",
   "execution_count": 47,
   "metadata": {},
   "outputs": [
    {
     "name": "stdout",
     "output_type": "stream",
     "text": [
      "Demetimiz:  (0, 1, 'iki', 3)\n",
      "Demetimizin 1 indisli elemanı:  1\n",
      "Demetimizin sondan 2. elemanı:  iki\n",
      "Demetimizin 2 ve 3 indisli elemanları:  ('iki', 3)\n"
     ]
    }
   ],
   "source": [
    "d = (0,1,\"iki\",3)\n",
    "print(\"Demetimiz: \",d)\n",
    "print(\"Demetimizin 1 indisli elemanı: \",d[1])\n",
    "print(\"Demetimizin sondan 2. elemanı: \",d[-2])\n",
    "print(\"Demetimizin 2 ve 3 indisli elemanları: \",d[2:4])"
   ]
  },
  {
   "cell_type": "markdown",
   "metadata": {},
   "source": [
    "Kendi işlerimizde demetlere pek ihtiyacımız olmadığı için, bir de değiştirilemez oluşlarından ötürü bu aşamada çareden çok dert olacaklarından, demetlere girmeden teğet geçiyoruz."
   ]
  },
  {
   "cell_type": "markdown",
   "metadata": {},
   "source": [
    "**Bir de kümeler (_set_) varmış, onları niye görmüyoruz?**\n",
    "Kıvrık parantezlerle  '{}' tanımlanan kümeler de listelere benzemekle beraber, en temel özelliği bir elemanın sadece bir kere yer almasıdır. Bu özellikleri listelerde basit bir döngüyle de sağlanabildiğinden dolayı -benim bildiğim kadarıyla- çok yaygın bir kullanımı yoktur. Kümelerin bir diğer ayırt edici yönü ise, elemanlarına tek tek ulaşımın mümkün olmamasıdır (yani indis kullanarak tek bir elemana ulaşamayız, ancak bütün üzerinden döngü kurabiliriz -- bir nevi _ya hep, ya hiç_ 8)."
   ]
  },
  {
   "cell_type": "code",
   "execution_count": 48,
   "metadata": {},
   "outputs": [
    {
     "name": "stdout",
     "output_type": "stream",
     "text": [
      "Kümemiz:  {0, 1, 2, 4, 'iki'}\n"
     ]
    }
   ],
   "source": [
    "k = {0,1,\"iki\",1,\"iki\",2,4}\n",
    "print(\"Kümemiz: \",k)"
   ]
  }
 ],
 "metadata": {
  "kernelspec": {
   "display_name": "Python 3",
   "language": "python",
   "name": "python3"
  },
  "language_info": {
   "codemirror_mode": {
    "name": "ipython",
    "version": 3
   },
   "file_extension": ".py",
   "mimetype": "text/x-python",
   "name": "python",
   "nbconvert_exporter": "python",
   "pygments_lexer": "ipython3",
   "version": "3.6.9"
  }
 },
 "nbformat": 4,
 "nbformat_minor": 2
}
